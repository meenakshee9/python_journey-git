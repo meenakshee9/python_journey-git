{
  "nbformat": 4,
  "nbformat_minor": 0,
  "metadata": {
    "colab": {
      "provenance": [],
      "authorship_tag": "ABX9TyP4szi1uFdcbK10uvWl5rZ4",
      "include_colab_link": true
    },
    "kernelspec": {
      "name": "python3",
      "display_name": "Python 3"
    },
    "language_info": {
      "name": "python"
    }
  },
  "cells": [
    {
      "cell_type": "markdown",
      "metadata": {
        "id": "view-in-github",
        "colab_type": "text"
      },
      "source": [
        "<a href=\"https://colab.research.google.com/github/meenakshee9/python_journey-git/blob/main/Python_OOPS_.ipynb\" target=\"_parent\"><img src=\"https://colab.research.google.com/assets/colab-badge.svg\" alt=\"Open In Colab\"/></a>"
      ]
    },
    {
      "cell_type": "markdown",
      "source": [
        "# **Oops Concepts In Python With Real Life Example**"
      ],
      "metadata": {
        "id": "m6TF91vr5_HX"
      }
    },
    {
      "cell_type": "markdown",
      "source": [
        "OOP(object oriented programming) is used to solve the problems with the help of  classes and objects."
      ],
      "metadata": {
        "id": "9DiOJCWn6MWr"
      }
    },
    {
      "cell_type": "markdown",
      "source": [
        "There are some major concepts is used in oops(object -oriented programming system) as given below.\n",
        "class ,\n",
        "object,\n",
        "method,\n",
        "Inheritance,\n",
        "Polymorphism,\n",
        "Encapsulation,\n",
        "Abstraction."
      ],
      "metadata": {
        "id": "q9L6XZLL6yyc"
      }
    },
    {
      "cell_type": "markdown",
      "source": [
        "1.) Class:"
      ],
      "metadata": {
        "id": "rXSgPdDr7CUo"
      }
    },
    {
      "cell_type": "code",
      "source": [
        "#A class is a blue print of an object.\n",
        "#A class is a collection of data and methods"
      ],
      "metadata": {
        "id": "WuS1ThCp6uMw"
      },
      "execution_count": 1,
      "outputs": []
    },
    {
      "cell_type": "code",
      "execution_count": 2,
      "metadata": {
        "colab": {
          "base_uri": "https://localhost:8080/"
        },
        "id": "WrTqZ0dj5psU",
        "outputId": "263f6b4f-e9eb-40b8-8fa1-9852ba5acdcf"
      },
      "outputs": [
        {
          "output_type": "stream",
          "name": "stdout",
          "text": [
            "value os sum is = 11\n"
          ]
        }
      ],
      "source": [
        "class  student:\n",
        "  a = 5\n",
        "  b = 6\n",
        "  s = a+b\n",
        "  def show_data(self):\n",
        "       print(\"value os sum is =\", self.s)\n",
        "s1=student()\n",
        "s1.show_data()\n",
        "\n"
      ]
    },
    {
      "cell_type": "markdown",
      "source": [
        "2.) Object:-"
      ],
      "metadata": {
        "id": "cxNA3T1A7zCt"
      }
    },
    {
      "cell_type": "code",
      "source": [
        "class employee:\n",
        "     def __init__(self , a, b, c):\n",
        "                       self.id = a\n",
        "                       self.name = b\n",
        "                       self.salary = c\n",
        "     def display(self):\n",
        "        print(\"Employee id is\",self.id)\n",
        "        print(\"Employee name is=\",self.name)\n",
        "        print(\"Employee salary is =\",self.salary)\n",
        "e1 = employee(101,\"jay\",30000)\n",
        "e1.display()"
      ],
      "metadata": {
        "colab": {
          "base_uri": "https://localhost:8080/"
        },
        "id": "vgSvvMTJ7nMj",
        "outputId": "78ca9129-5eae-4b66-ff73-8ee84bb6c27f"
      },
      "execution_count": 8,
      "outputs": [
        {
          "output_type": "stream",
          "name": "stdout",
          "text": [
            "Employee id is 101\n",
            "Employee name is= jay\n",
            "Employee salary is = 30000\n"
          ]
        }
      ]
    },
    {
      "cell_type": "markdown",
      "source": [
        "3.) Method:-"
      ],
      "metadata": {
        "id": "4THmnDab_7sg"
      }
    },
    {
      "cell_type": "code",
      "source": [
        "def multiplication (a,b,c):\n",
        "    result=a*b*c\n",
        "    return result\n",
        "    print(\"Welcome to MNT LAB\")\n",
        "x=int(input(\"Enter first value: \"))\n",
        "y=int(input(\"Enter second value: \"))\n",
        "z=int(input(\"Enter third value: \"))\n",
        "#function calling\n",
        "print(\"Multiplication of three number is:\",multiplication(x,y,z))"
      ],
      "metadata": {
        "colab": {
          "base_uri": "https://localhost:8080/"
        },
        "id": "dPFcwvLy8yut",
        "outputId": "8849a63c-c219-48c1-d2f7-58913c4c50bd"
      },
      "execution_count": 9,
      "outputs": [
        {
          "output_type": "stream",
          "name": "stdout",
          "text": [
            "Enter first value: 4\n",
            "Enter second value: 5\n",
            "Enter third value: 7\n",
            "Multiplication of three number is: 140\n"
          ]
        }
      ]
    },
    {
      "cell_type": "code",
      "source": [
        "def sum (a,b):#define a function\n",
        "  result = a+b\n",
        "  print(\"The sum is\", result)\n",
        "sum(20,40  )#calling the function\n"
      ],
      "metadata": {
        "colab": {
          "base_uri": "https://localhost:8080/"
        },
        "id": "Opwei9nM_gmS",
        "outputId": "18d1e6ce-51d0-4ab1-e1dd-5d878fae9977"
      },
      "execution_count": 10,
      "outputs": [
        {
          "output_type": "stream",
          "name": "stdout",
          "text": [
            "The sum is 60\n"
          ]
        }
      ]
    },
    {
      "cell_type": "markdown",
      "source": [
        "### **4.) Inheritance:-**"
      ],
      "metadata": {
        "id": "529JEH88UXWl"
      }
    },
    {
      "cell_type": "markdown",
      "source": [
        "1.) Single Inheritance:- A class can inherit single class inside the brackets,is known as single inheritance.We generally use single inheritance in our programs.\n",
        "\n",
        "."
      ],
      "metadata": {
        "id": "gaUE2fIcUs1F"
      }
    },
    {
      "cell_type": "code",
      "source": [
        "class human:\n",
        "   def speak(self):\n",
        "    print(\"singer\")\n",
        "   def color(self):\n",
        "    print(\"black\")\n",
        "   def height(self):\n",
        "    print(\"6ft\")\n",
        "class son(human):\n",
        "  def edu(self):\n",
        "    print(\"This son is graduate\")\n",
        "#creating the object of child class\n",
        "s = son()\n",
        "s.speak()\n",
        "s.color()\n",
        "s.edu()\n",
        "s.height()\n",
        "\n"
      ],
      "metadata": {
        "colab": {
          "base_uri": "https://localhost:8080/"
        },
        "id": "s6p2yoG8AVyO",
        "outputId": "68043cc2-6b43-4d30-dc99-73b7e3f96cbf"
      },
      "execution_count": 4,
      "outputs": [
        {
          "output_type": "stream",
          "name": "stdout",
          "text": [
            "singer\n",
            "black\n",
            "This son is graduate\n",
            "6ft\n"
          ]
        }
      ]
    },
    {
      "cell_type": "markdown",
      "source": [
        " 2.)  Multi-level Inheritance:- Multi-level inheritance is possible in python like other object oriented programming language(c++,java,c# etc.).Multiple inheritance is achieved when a derived class inherits the features of another derived class  upto more than one level.There are no limits of number of levels in python.You can use any number of level for multi-level inheritance."
      ],
      "metadata": {
        "id": "H9i61A43WDvH"
      }
    },
    {
      "cell_type": "code",
      "source": [
        "#Base class\n",
        "class Grandfather:\n",
        "    def speak(self):\n",
        "        print(\"Grand father speakes true.\")\n",
        "    def color(self):\n",
        "        print(\"Grand Father color is white.\")\n",
        "    def thought(self):\n",
        "        print(\"Grand father behaviour is simple and cool\")\n",
        "#derived or child class 1\n",
        "class Father(Grandfather):\n",
        "     def education(self):\n",
        "         print(\"My Father is a B.Tech graduate\")\n",
        "#derived or child class 2\n",
        "class son(Father):\n",
        "    def height(self):\n",
        "        print(\"This son height is 6 fit.\")\n",
        "#creating the object of child class\n",
        "s=son()\n",
        "s.thought()\n",
        "s.color()\n",
        "s.education()\n",
        "s.height()"
      ],
      "metadata": {
        "colab": {
          "base_uri": "https://localhost:8080/"
        },
        "id": "GSd0_S2vVk9M",
        "outputId": "74f3ef19-040c-471b-fa56-d202b715b73f"
      },
      "execution_count": 10,
      "outputs": [
        {
          "output_type": "stream",
          "name": "stdout",
          "text": [
            "Grand father behaviour is simple and cool\n",
            "Grand Father color is white.\n",
            "My Father is a B.Tech graduate\n",
            "This son height is 6 fit.\n"
          ]
        }
      ]
    },
    {
      "cell_type": "markdown",
      "source": [
        "3.) Multiple Inheritance:-\n",
        "\n",
        "Python Provides the flexibility to inherit multiple base classes in the child class."
      ],
      "metadata": {
        "id": "lfkmcA-xXlJB"
      }
    },
    {
      "cell_type": "code",
      "source": [
        "#Creating the Base classes\n",
        "class operation1:\n",
        "   def sum(self,a,b):\n",
        "       return a+b\n",
        "class operation2:\n",
        "   def substract(self,a,b):\n",
        "       return a-b\n",
        "class operation3:\n",
        "   def division(self,a,b):\n",
        "       return a/b\n",
        "class operation4:\n",
        "   def multiplication(self,a,b):\n",
        "       return a*b\n",
        "#creating derived or child class\n",
        "class calculate(operation1,operation2,operation3,operation4):\n",
        "    def mod(self,a,b):\n",
        "        return a%b\n",
        "#creating the object of child class\n",
        "c=calculate()\n",
        "a=int(input(\"Enter the first number: \"))\n",
        "b=int(input(\"Enter the second number: \"))\n",
        "print(\"The Sum of two number(a+b)= \",c.sum(a,b))\n",
        "print(\"The Subtraction of two number(a-b)= \",c.substract(a,b))\n",
        "print(\"The Division of two number(a/b)= \",c.division(a,b))\n",
        "print(\"The Multiplication of two number(a*b)= \",c.multiplication(a,b))\n",
        "print(\"The Modulous of two number(a%b)= \",c.mod(a,b))"
      ],
      "metadata": {
        "colab": {
          "base_uri": "https://localhost:8080/"
        },
        "id": "P2iGPf6VWUHy",
        "outputId": "6c80e0e4-f716-4c81-bdf7-4dd43b9383e3"
      },
      "execution_count": 11,
      "outputs": [
        {
          "output_type": "stream",
          "name": "stdout",
          "text": [
            "Enter the first number: 89\n",
            "Enter the second number: 9\n",
            "The Sum of two number(a+b)=  98\n",
            "The Subtraction of two number(a-b)=  80\n",
            "The Division of two number(a/b)=  9.88888888888889\n",
            "The Multiplication of two number(a*b)=  801\n",
            "The Modulous of two number(a%b)=  8\n"
          ]
        }
      ]
    },
    {
      "cell_type": "markdown",
      "source": [
        "5.) Polymorphism:-\n",
        "'Polymorphism' word  is made two word \"poly\" and  \"morph\".'poly' means many and 'morph' means shape/forms.In this concept we can perform one task in different ways for example,suppose we want to go 'Delhi ',we generally uses 'GPS' for navigating the routes.Here GPS located different routes for same destination Delhi.In programming, this is called 'polymorphism'."
      ],
      "metadata": {
        "id": "vV5HZhvmZroG"
      }
    },
    {
      "cell_type": "markdown",
      "source": [
        "Polymorphism is two types:-\n",
        "1.compile-time polymorphism(method overloading)                                   \n",
        "2.Runtime polymorphism(method overriding)"
      ],
      "metadata": {
        "id": "Nymj-AboZwSP"
      }
    },
    {
      "cell_type": "markdown",
      "source": [
        "1.) Compile time polymorphism:-\n",
        "It is used for method overloading.\n",
        "It support compile-time binding.Python  does not support compile time polymorphism.\n",
        "In this, class ,method and object are bind at compile time."
      ],
      "metadata": {
        "id": "KCuZe8CSaDm_"
      }
    },
    {
      "cell_type": "markdown",
      "source": [
        "Method Overloading in Python:-\n",
        "Python does not support method overloading.It is not possible to define more than one method with the same name in a class in python.Because method arguments/parameters in python do not have a type.suppose we want to call a method that has one argument ,in python it can be integer or string,float or double. we already know,method argument in python do not have a type."
      ],
      "metadata": {
        "id": "WtF3X4z_aWuO"
      }
    },
    {
      "cell_type": "code",
      "source": [
        "\"\"\"The problem of method overloading in python,we can access only the last method.Here add method run which takes three argument and last method of the program .\"\"\"\n",
        "class math:\n",
        "    def add(self,a,b):\n",
        "        c=a+b\n",
        "        print(\"Addition of two Number:\",c)\n",
        "    def add(self,a,b,c):\n",
        "        d=a+b+c\n",
        "        print(\"Addition of three Number:\",d)\n",
        "#creating the object of the class\n",
        "m=math()\n",
        "#m.add(2,3)\n",
        "m.add(5,4,6)"
      ],
      "metadata": {
        "colab": {
          "base_uri": "https://localhost:8080/"
        },
        "id": "gN_lV1TkYaq2",
        "outputId": "2ce93464-50e5-4692-eef3-47ea868d9cb3"
      },
      "execution_count": 17,
      "outputs": [
        {
          "output_type": "stream",
          "name": "stdout",
          "text": [
            "Addition of three Number: 15\n"
          ]
        }
      ]
    },
    {
      "cell_type": "markdown",
      "source": [
        "To achieve Method overloading in python:-\n",
        "1.) By using Variable arguments:-By using variable arguments,we can achieve method overloading concepts in python."
      ],
      "metadata": {
        "id": "EA7Wj4BEbAzI"
      }
    },
    {
      "cell_type": "code",
      "source": [
        "class math:\n",
        "    def add(self,*n):\n",
        "        sum=0\n",
        "        for num in n:\n",
        "            sum=sum+num\n",
        "        return sum\n",
        "#creating the object of the class\n",
        "m=math()\n",
        "#method with four argument\n",
        "sum1=m.add(3,4,5,6)\n",
        "print(\"sum of four arguments=\" +str(sum1))\n",
        "sum2=m.add(10,20,30)\n",
        "print(\"sum of three arguments=\"+str(sum2))\n",
        "sum3=m.add(40,50)\n",
        "print(\"sum of two arguments=\"+str(sum3))\n"
      ],
      "metadata": {
        "colab": {
          "base_uri": "https://localhost:8080/"
        },
        "id": "qXrtC7zCafNL",
        "outputId": "5573e193-5f9d-4614-d5cb-672b7645ae67"
      },
      "execution_count": 22,
      "outputs": [
        {
          "output_type": "stream",
          "name": "stdout",
          "text": [
            "sum of four arguments=18\n",
            "sum of three arguments=60\n",
            "sum of two arguments=90\n"
          ]
        }
      ]
    },
    {
      "cell_type": "markdown",
      "source": [
        "2.) Run-time polymorphism:-\n",
        "It involves deciding at runtime which function from base class should get called.\n",
        "Python supports runtime polymorphism. Python supports method overriding and operator overloading."
      ],
      "metadata": {
        "id": "mBtT7BuHbiKQ"
      }
    },
    {
      "cell_type": "code",
      "source": [
        "#Polymorphism with function & objects\n",
        "class Apple():\n",
        "    def type(self):\n",
        "        print(\"This is a fruit\")\n",
        "    def color(self):\n",
        "        print(\"Apple color is red\")\n",
        "class Banana():\n",
        "    def type(self):\n",
        "        print(\"Banana is a fruit\")\n",
        "    def color(self):\n",
        "        print(\"Banana color is yellow\")\n",
        "class onion():\n",
        "    def type(self):\n",
        "        print(\"Onion is a vegetable\")\n",
        "    def color(self):\n",
        "        print(\"Onion color is purple\")\n",
        "def function1(obj):\n",
        "    obj.type()\n",
        "    obj.color()\n",
        "#creating the object of the class\n",
        "obj1=Apple()\n",
        "obj2=Banana()\n",
        "obj3=onion()\n",
        "function1(obj1)\n",
        "function1(obj2)\n",
        "function1(obj3)"
      ],
      "metadata": {
        "colab": {
          "base_uri": "https://localhost:8080/"
        },
        "id": "LZVjZzRLbJAf",
        "outputId": "75894014-0df4-4b60-d0b4-c88cd8845cc6"
      },
      "execution_count": 23,
      "outputs": [
        {
          "output_type": "stream",
          "name": "stdout",
          "text": [
            "This is a fruit\n",
            "Apple color is red\n",
            "Banana is a fruit\n",
            "Banana color is yellow\n",
            "Onion is a vegetable\n",
            "Onion color is purple\n"
          ]
        }
      ]
    },
    {
      "cell_type": "code",
      "source": [
        "#Polymorphism with class methods:-\n",
        "class student():\n",
        "    def display(self):\n",
        "        print(\"I am a student\")\n",
        "    def language(self):\n",
        "        print(\"This student speak English\")\n",
        "class employee():\n",
        "    def display(self):\n",
        "        print(\"I am an employee\")\n",
        "    def language(self):\n",
        "        print(\"This employee speak Hindi\")\n",
        "st_obj=student()\n",
        "em_obj=employee()\n",
        "for person in (st_obj,em_obj):\n",
        "    person.display()\n",
        "    person.language()"
      ],
      "metadata": {
        "colab": {
          "base_uri": "https://localhost:8080/"
        },
        "id": "oeC7p7R8caV1",
        "outputId": "c679c63a-ddb5-4158-8615-0639450481df"
      },
      "execution_count": 24,
      "outputs": [
        {
          "output_type": "stream",
          "name": "stdout",
          "text": [
            "I am a student\n",
            "This student speak English\n",
            "I am an employee\n",
            "This employee speak Hindi\n"
          ]
        }
      ]
    },
    {
      "cell_type": "code",
      "source": [
        "#Polymorphism with Inheritance\n",
        "class grand_father:\n",
        "    def height(self):\n",
        "        print(\"My grandfther height is 6 fit\")\n",
        "    def skin_color(self):\n",
        "         print(\"My grandfather skin color is white\")\n",
        "class father(grand_father):\n",
        "    def height(self):\n",
        "        print(\"My father height is 7 fit\")\n",
        "    def skin_color(self):\n",
        "         print(\"My father skin color is black\")\n",
        "class son(grand_father):\n",
        "    def height(self):\n",
        "        print(\"This height is 6.56 fit\")\n",
        "    def skin_color(self):\n",
        "         print(\"This son skin color is black\")\n",
        "obj_grandfather=grand_father()\n",
        "obj_father=father=father()\n",
        "#calling the class members\n",
        "obj_son=son()\n",
        "obj_grandfather.height()\n",
        "obj_grandfather.skin_color ()\n",
        "obj_father.height()\n",
        "obj_father.skin_color()\n",
        "obj_son.height()\n",
        "obj_son.skin_color()"
      ],
      "metadata": {
        "colab": {
          "base_uri": "https://localhost:8080/"
        },
        "id": "bg6qtc1achjg",
        "outputId": "f7466988-17b4-4be2-e496-7102bdbb45ec"
      },
      "execution_count": 25,
      "outputs": [
        {
          "output_type": "stream",
          "name": "stdout",
          "text": [
            "My grandfther height is 6 fit\n",
            "My grandfather skin color is white\n",
            "My father height is 7 fit\n",
            "My father skin color is black\n",
            "This height is 6.56 fit\n",
            "This son skin color is black\n"
          ]
        }
      ]
    },
    {
      "cell_type": "markdown",
      "source": [
        "# **6.) Encapsulation:-**"
      ],
      "metadata": {
        "id": "R-A9Jaf8dhcD"
      }
    },
    {
      "cell_type": "markdown",
      "source": [
        "In encapsulation methodology we can restrict access to methods and variables.\n",
        "To prevent the data access of the class from out side or same class, is known as encapsulation.\n",
        "In python ,we denote private attributes using prefix underscore(single(_) or double(__))."
      ],
      "metadata": {
        "id": "mj6UCx8Wdond"
      }
    },
    {
      "cell_type": "code",
      "source": [
        "#Before encapsulation\n",
        "class rectangle:\n",
        "    def __init__(self,a,b):\n",
        "        self.height=a\n",
        "        self.width=b\n",
        "    def display(self):\n",
        "        print(\"Rectangle height =\",self.height)\n",
        "        print(\"Rectangle width =\",self.width)\n",
        "rect=rectangle(20,30)\n",
        "rect.display()\n",
        "print(\"\")\n",
        "print(\"Changing the class variables values from outside the class:\")\n",
        "print(\"\")\n",
        "rect.height=50\n",
        "rect.width=70\n",
        "rect.display()"
      ],
      "metadata": {
        "colab": {
          "base_uri": "https://localhost:8080/"
        },
        "id": "XYRkCGWxcov4",
        "outputId": "2f0b2f02-6037-4334-ed88-dcdde38efdd4"
      },
      "execution_count": 26,
      "outputs": [
        {
          "output_type": "stream",
          "name": "stdout",
          "text": [
            "Rectangle height = 20\n",
            "Rectangle width = 30\n",
            "\n",
            "Changing the class variables values from outside the class:\n",
            "\n",
            "Rectangle height = 50\n",
            "Rectangle width = 70\n"
          ]
        }
      ]
    },
    {
      "cell_type": "code",
      "source": [
        "#After encapsulation\n",
        "class rectangle:\n",
        "    def __init__(self,a,b):\n",
        "        self.__height=a\n",
        "        self.__width=b\n",
        "    def display(self):\n",
        "        print(\"Rectangle height =\",self.__height)\n",
        "        print(\"Rectangle width =\",self.__width)\n",
        "rect=rectangle(20,30)\n",
        "rect.display()\n",
        "print(\"\")\n",
        "print(\"Changing the value of class variable __width from outside of the class \")\n",
        "print(\"\")\n",
        "rect.__width=70\n",
        "rect.display()\n",
        "print(\"Accessing the __height variable from outside of the class\")\n",
        "#print(rect.__height)"
      ],
      "metadata": {
        "colab": {
          "base_uri": "https://localhost:8080/"
        },
        "id": "IDSaTKozeEog",
        "outputId": "78970116-f026-4fb6-e099-a75fd148d653"
      },
      "execution_count": 29,
      "outputs": [
        {
          "output_type": "stream",
          "name": "stdout",
          "text": [
            "Rectangle height = 20\n",
            "Rectangle width = 30\n",
            "\n",
            "Changing the value of class variable __width from outside of the class \n",
            "\n",
            "Rectangle height = 20\n",
            "Rectangle width = 30\n",
            "Accessing the __height variable from outside of the class\n"
          ]
        }
      ]
    },
    {
      "cell_type": "markdown",
      "source": [
        "7.) Abstraction:-"
      ],
      "metadata": {
        "id": "qvk1g_FyfDMa"
      }
    },
    {
      "cell_type": "code",
      "source": [
        "#Abstraction is used to hide internal details and show only functionalities.\n",
        "#A class from which an object can not be created is called an abstract class."
      ],
      "metadata": {
        "id": "wvuJO8IzejuZ"
      },
      "execution_count": 30,
      "outputs": []
    },
    {
      "cell_type": "code",
      "source": [
        "from abc import ABC,abstractmethod\n",
        "class shape(ABC):\n",
        "    @abstractmethod\n",
        "    def draw(self):\n",
        "        pass\n",
        "class circle(shape):\n",
        "    def draw(self):\n",
        "        print(\"Draw the circle\")\n",
        "class square(shape):\n",
        "    def draw(self):\n",
        "        print(\"Draw the square\")\n",
        "\n",
        "#s=shape()  #--> this will show error because shape is abstract class\n",
        "c=circle()\n",
        "c.draw()\n",
        "\n"
      ],
      "metadata": {
        "colab": {
          "base_uri": "https://localhost:8080/"
        },
        "id": "5oGWmw36fRC4",
        "outputId": "7dcd4812-e97e-4de6-9e24-544e6005511f"
      },
      "execution_count": 41,
      "outputs": [
        {
          "output_type": "stream",
          "name": "stdout",
          "text": [
            "Draw the circle\n"
          ]
        }
      ]
    },
    {
      "cell_type": "code",
      "source": [],
      "metadata": {
        "id": "L9UFkMlRfXDO"
      },
      "execution_count": null,
      "outputs": []
    }
  ]
}